{
 "cells": [
  {
   "cell_type": "code",
   "execution_count": 1,
   "id": "03bdb3d6-651e-4cea-8909-2ea20143b168",
   "metadata": {},
   "outputs": [],
   "source": [
    "# Döngü oluşturma"
   ]
  },
  {
   "cell_type": "code",
   "execution_count": 5,
   "id": "f6fcde1a-dd75-4465-9594-800b9faaf7cd",
   "metadata": {},
   "outputs": [
    {
     "name": "stdout",
     "output_type": "stream",
     "text": [
      "elma\n",
      "armut\n",
      "muz\n"
     ]
    }
   ],
   "source": [
    "meyveler = [\"elma\", \"armut\",\"muz\"]\n",
    "\n",
    "for meyve in meyveler:\n",
    "    print(meyve)"
   ]
  },
  {
   "cell_type": "code",
   "execution_count": 7,
   "id": "f9be292f-0042-4eab-a42f-96ada19a714c",
   "metadata": {},
   "outputs": [],
   "source": [
    "# String Üzerinde Döngü"
   ]
  },
  {
   "cell_type": "code",
   "execution_count": 11,
   "id": "447786c7-e021-486a-84bb-68443f691de7",
   "metadata": {},
   "outputs": [
    {
     "name": "stdout",
     "output_type": "stream",
     "text": [
      "M\n",
      "e\n",
      "y\n",
      "v\n",
      "e\n",
      "l\n",
      "e\n",
      "r\n"
     ]
    }
   ],
   "source": [
    "metin = \"Meyveler\"\n",
    "\n",
    "for harf in metin:\n",
    "    print(harf)"
   ]
  },
  {
   "cell_type": "code",
   "execution_count": 13,
   "id": "54aa2c14-1265-4c44-922f-097235a34e20",
   "metadata": {},
   "outputs": [],
   "source": [
    "# Range Fonksiyonu ile Döngü"
   ]
  },
  {
   "cell_type": "code",
   "execution_count": 23,
   "id": "ee2b8d7a-76a9-4692-8dce-5cf2eb039c29",
   "metadata": {},
   "outputs": [
    {
     "name": "stdout",
     "output_type": "stream",
     "text": [
      "0\n",
      "1\n",
      "2\n",
      "3\n",
      "4\n"
     ]
    }
   ],
   "source": [
    "for i in range(5):\n",
    "    print(i)"
   ]
  },
  {
   "cell_type": "code",
   "execution_count": 29,
   "id": "1d8519ff-aad1-4f99-b901-66d85aa77b8a",
   "metadata": {},
   "outputs": [
    {
     "name": "stdout",
     "output_type": "stream",
     "text": [
      "5\n",
      "7\n",
      "9\n"
     ]
    }
   ],
   "source": [
    "for i in range(5,10,2):\n",
    "    print(i)"
   ]
  },
  {
   "cell_type": "code",
   "execution_count": 31,
   "id": "80289375-2c2c-4833-8ea3-63f93a6d5051",
   "metadata": {},
   "outputs": [],
   "source": [
    "# İç İçe for Döngüleri"
   ]
  },
  {
   "cell_type": "code",
   "execution_count": 37,
   "id": "fddcff05-beb3-483f-b96c-1e38bd27986a",
   "metadata": {},
   "outputs": [
    {
     "name": "stdout",
     "output_type": "stream",
     "text": [
      "0\n",
      "1\n",
      "2\n",
      "3\n",
      "4\n",
      "5\n",
      "6\n",
      "7\n",
      "8\n"
     ]
    }
   ],
   "source": [
    "matris = [[0,1,2],[3,4,5],[6,7,8]]\n",
    "\n",
    "for satir in matris:\n",
    "    for eleman in satir:\n",
    "        print(eleman)\n",
    "    "
   ]
  },
  {
   "cell_type": "code",
   "execution_count": 39,
   "id": "8e33373c-07e2-472a-9f20-85e81f07c73f",
   "metadata": {},
   "outputs": [],
   "source": [
    "# for Döngüsünün Kontrol İfadeleri"
   ]
  },
  {
   "cell_type": "code",
   "execution_count": 49,
   "id": "ffa41e54-db15-41b4-a9a8-fc60e8595a16",
   "metadata": {},
   "outputs": [],
   "source": [
    "# break"
   ]
  },
  {
   "cell_type": "code",
   "execution_count": 51,
   "id": "aa09d1fb-b1ae-4fdc-a053-2c436f297fdf",
   "metadata": {},
   "outputs": [
    {
     "name": "stdout",
     "output_type": "stream",
     "text": [
      "0\n",
      "1\n",
      "2\n",
      "3\n",
      "4\n"
     ]
    }
   ],
   "source": [
    "for sayi in range(10):\n",
    "    if sayi == 5:\n",
    "        break\n",
    "    print(sayi)"
   ]
  },
  {
   "cell_type": "code",
   "execution_count": 53,
   "id": "46e84a27-49d1-4ced-b3c6-f5de196416c6",
   "metadata": {},
   "outputs": [],
   "source": [
    "# continue"
   ]
  },
  {
   "cell_type": "code",
   "execution_count": 55,
   "id": "61e07baa-ec12-4892-bae7-ff1c6babf576",
   "metadata": {},
   "outputs": [
    {
     "name": "stdout",
     "output_type": "stream",
     "text": [
      "0\n",
      "1\n",
      "3\n",
      "4\n"
     ]
    }
   ],
   "source": [
    "for sayi in range(5):\n",
    "    if sayi == 2:\n",
    "        continue\n",
    "    print(sayi)\n"
   ]
  },
  {
   "cell_type": "code",
   "execution_count": 57,
   "id": "7f272033-3480-4be5-a84c-b05a29518a5a",
   "metadata": {},
   "outputs": [
    {
     "name": "stdout",
     "output_type": "stream",
     "text": [
      "0\n",
      "1\n",
      "2\n",
      "3\n",
      "4\n",
      "Döngü sona erdi.\n"
     ]
    }
   ],
   "source": [
    "for sayi in range(5):\n",
    "    print(sayi)\n",
    "else:\n",
    "    print(\"Döngü sona erdi.\")\n"
   ]
  },
  {
   "cell_type": "code",
   "execution_count": 59,
   "id": "8d0ade59-aa6d-4217-8da9-fe6060dafde9",
   "metadata": {},
   "outputs": [
    {
     "data": {
      "text/plain": [
       "'\\nSoru 1\\nBir liste içindeki pozitif sayıların toplamını hesaplayan bir Python fonksiyonu yazın. \\nListeyi parametre olarak alın ve sonucu döndürün.\\n'"
      ]
     },
     "execution_count": 59,
     "metadata": {},
     "output_type": "execute_result"
    }
   ],
   "source": [
    "'''\n",
    "Soru 1\n",
    "Bir liste içindeki pozitif sayıların toplamını hesaplayan bir Python fonksiyonu yazın. \n",
    "Listeyi parametre olarak alın ve sonucu döndürün.\n",
    "'''"
   ]
  },
  {
   "cell_type": "code",
   "execution_count": 85,
   "id": "9082b14f-8047-4ac9-b486-2421755ae908",
   "metadata": {},
   "outputs": [
    {
     "name": "stdout",
     "output_type": "stream",
     "text": [
      "15\n"
     ]
    }
   ],
   "source": [
    "sayi = 0\n",
    "sayilar = [0,1,2,3,4,5]\n",
    "for i in sayilar:\n",
    "    sayi += sayilar[i]\n",
    "print(sayi)"
   ]
  },
  {
   "cell_type": "code",
   "execution_count": 87,
   "id": "5b6a5296-15ce-4d1d-976b-d6a76946e131",
   "metadata": {},
   "outputs": [
    {
     "data": {
      "text/plain": [
       "'\\nSoru 2\\nBir string içindeki her bir harfin kaç kez tekrarlandığını sayan bir Python fonksiyonu \\nyazın. Sonuçları bir sözlük (dictionary) olarak döndürün.\\n'"
      ]
     },
     "execution_count": 87,
     "metadata": {},
     "output_type": "execute_result"
    }
   ],
   "source": [
    "'''\n",
    "Soru 2\n",
    "Bir string içindeki her bir harfin kaç kez tekrarlandığını sayan bir Python fonksiyonu \n",
    "yazın. Sonuçları bir sözlük (dictionary) olarak döndürün.\n",
    "'''"
   ]
  },
  {
   "cell_type": "code",
   "execution_count": 89,
   "id": "bee5923f-400b-4ddf-af4a-cee0dccc84f6",
   "metadata": {},
   "outputs": [
    {
     "name": "stdout",
     "output_type": "stream",
     "text": [
      "{'m': 1, 'e': 1, 'r': 1, 'h': 1, 'a': 2, 'b': 1}\n"
     ]
    }
   ],
   "source": [
    "def harf_sayaci(metin):\n",
    "    sayac = {}\n",
    "    for harf in metin:\n",
    "        if harf in sayac:\n",
    "            sayac[harf] += 1\n",
    "        else:\n",
    "            sayac[harf] = 1\n",
    "    return sayac\n",
    "\n",
    "# Örnek kullanım\n",
    "metin = \"merhaba\"\n",
    "print(harf_sayaci(metin))  # Çıktı: {'m': 1, 'e': 1, 'r': 1, 'h': 1, 'a': 2, 'b': 1}\n"
   ]
  },
  {
   "cell_type": "code",
   "execution_count": null,
   "id": "982598de-2c29-48e9-84b1-18a071b5ab56",
   "metadata": {},
   "outputs": [],
   "source": [
    "'''\n",
    "Soru 3\n",
    "1'den 100'e kadar olan sayıların toplamını hesaplayın.Ancak toplamın her 10 sayıda bir \n",
    "ekrana yazdırılmasını sağlayın.\n",
    "'''"
   ]
  },
  {
   "cell_type": "code",
   "execution_count": 101,
   "id": "e026c9db-3979-466a-af28-db1e01edf41a",
   "metadata": {},
   "outputs": [
    {
     "name": "stdout",
     "output_type": "stream",
     "text": [
      "10 sayısı ekrana yazdırıldı. Şu anki toplam: 55\n",
      "20 sayısı ekrana yazdırıldı. Şu anki toplam: 210\n",
      "30 sayısı ekrana yazdırıldı. Şu anki toplam: 465\n",
      "40 sayısı ekrana yazdırıldı. Şu anki toplam: 820\n",
      "50 sayısı ekrana yazdırıldı. Şu anki toplam: 1275\n",
      "60 sayısı ekrana yazdırıldı. Şu anki toplam: 1830\n",
      "70 sayısı ekrana yazdırıldı. Şu anki toplam: 2485\n",
      "80 sayısı ekrana yazdırıldı. Şu anki toplam: 3240\n",
      "90 sayısı ekrana yazdırıldı. Şu anki toplam: 4095\n",
      "100 sayısı ekrana yazdırıldı. Şu anki toplam: 5050\n",
      "Toplam: 5050\n"
     ]
    }
   ],
   "source": [
    "toplam = 0\n",
    "\n",
    "for sayi in range(1,101):\n",
    "    toplam += sayi\n",
    "    if sayi % 10 == 0:\n",
    "        print(f\"{sayi} sayısı ekrana yazdırıldı. Şu anki toplam: {toplam}\")\n",
    "\n",
    "print(f\"Toplam: {toplam}\")"
   ]
  },
  {
   "cell_type": "code",
   "execution_count": null,
   "id": "df72c74b-3e97-4bff-923c-86f9dd1d9e6d",
   "metadata": {},
   "outputs": [],
   "source": [
    "\"\"\"\n",
    "Soru 4\n",
    "Bir listenin elemanlarını ters sırayla yazdıran bir Python fonksiyonu yazın. \n",
    "Listeyi parametre olarak alın.\n",
    "\"\"\""
   ]
  },
  {
   "cell_type": "code",
   "execution_count": 117,
   "id": "58d992dc-1f03-4634-9481-8577c1bb0f68",
   "metadata": {},
   "outputs": [
    {
     "name": "stdout",
     "output_type": "stream",
     "text": [
      "[5, 4, 3, 2, 1, 0]\n"
     ]
    }
   ],
   "source": [
    "def ters_yazdir(liste):\n",
    "    liste.reverse()  # Listenin kendisini tersine çevir\n",
    "    return liste  # Ters çevrilmiş listeyi döndür\n",
    "\n",
    "list1 = [0,1,2,3,4,5]\n",
    "print(ters_yazdir(list1))"
   ]
  },
  {
   "cell_type": "code",
   "execution_count": 119,
   "id": "05ded618-7ede-43f0-b95d-e30868327681",
   "metadata": {},
   "outputs": [
    {
     "data": {
      "text/plain": [
       "'\\nSoru 5\\nVerilen bir sayının asal olup olmadığını kontrol eden bir Python fonksiyonu yazın. \\nFonksiyon, sayının asal olup olmadığını belirten bir Boolean değer döndürsün.\\n'"
      ]
     },
     "execution_count": 119,
     "metadata": {},
     "output_type": "execute_result"
    }
   ],
   "source": [
    "'''\n",
    "Soru 5\n",
    "Verilen bir sayının asal olup olmadığını kontrol eden bir Python fonksiyonu yazın. \n",
    "Fonksiyon, sayının asal olup olmadığını belirten bir Boolean değer döndürsün.\n",
    "'''"
   ]
  },
  {
   "cell_type": "code",
   "execution_count": 123,
   "id": "436d8a9c-b9d1-4ccb-8190-7c547287bc94",
   "metadata": {},
   "outputs": [
    {
     "name": "stdout",
     "output_type": "stream",
     "text": [
      "True\n"
     ]
    }
   ],
   "source": [
    "def asal_mi(sayi):\n",
    "    if sayi < 2:\n",
    "        return False\n",
    "    for i in range(2, int(sayi**0.5) + 1):\n",
    "        if sayi % i == 0:\n",
    "            return False\n",
    "    return True\n",
    "\n",
    "# Örnek kullanım\n",
    "sayi = 29\n",
    "print(asal_mi(sayi))  \n"
   ]
  },
  {
   "cell_type": "code",
   "execution_count": 125,
   "id": "3f675a98-5fa5-4530-af19-61aca5ef1836",
   "metadata": {},
   "outputs": [
    {
     "data": {
      "text/plain": [
       "'\\nSoru 6\\nVerilen bir listenin içindeki en büyük sayıyı bulan bir Python fonksiyonu yazın. \\nListeyi parametre olarak alın ve sonucu döndürün.\\n'"
      ]
     },
     "execution_count": 125,
     "metadata": {},
     "output_type": "execute_result"
    }
   ],
   "source": [
    "'''\n",
    "Soru 6\n",
    "Verilen bir listenin içindeki en büyük sayıyı bulan bir Python fonksiyonu yazın. \n",
    "Listeyi parametre olarak alın ve sonucu döndürün.\n",
    "'''"
   ]
  },
  {
   "cell_type": "code",
   "execution_count": 133,
   "id": "0d8dcf6c-1b4b-4fd6-a2f8-74a593c26db6",
   "metadata": {},
   "outputs": [
    {
     "name": "stdout",
     "output_type": "stream",
     "text": [
      "6\n"
     ]
    }
   ],
   "source": [
    "list1 = [0,1,2,3,4,5,6]\n",
    "\n",
    "def enbüyüksayi(list):\n",
    "    return max(list)\n",
    "\n",
    "print(enbüyüksayi(list1))"
   ]
  },
  {
   "cell_type": "code",
   "execution_count": 137,
   "id": "9f6f3f3a-bce8-4d4e-837a-4ff21f2143d8",
   "metadata": {},
   "outputs": [
    {
     "data": {
      "text/plain": [
       "'\\nSoru 7\\nVerilen bir metindeki tüm kelimelerin sayısını hesaplayan bir Python fonksiyonu yazın.\\nFonksiyon, metni parametre olarak almalı ve kelime sayısını döndürmelidir.\\n'"
      ]
     },
     "execution_count": 137,
     "metadata": {},
     "output_type": "execute_result"
    }
   ],
   "source": [
    "'''\n",
    "Soru 7\n",
    "Verilen bir metindeki tüm kelimelerin sayısını hesaplayan bir Python fonksiyonu yazın.\n",
    "Fonksiyon, metni parametre olarak almalı ve kelime sayısını döndürmelidir.\n",
    "'''"
   ]
  },
  {
   "cell_type": "code",
   "execution_count": 143,
   "id": "d4f7139f-17a1-455c-9f07-6b1934de710f",
   "metadata": {},
   "outputs": [
    {
     "name": "stdout",
     "output_type": "stream",
     "text": [
      "2\n",
      "4\n"
     ]
    }
   ],
   "source": [
    "metin = \"Hello World\"\n",
    "metin1 = \"My name is Burak\"\n",
    "def kelime_sayisi(x):\n",
    "    kelime_say = x.count(\" \") + 1\n",
    "    return kelime_say\n",
    "\n",
    "print(kelime_sayisi(metin))\n",
    "print(kelime_sayisi(metin1))"
   ]
  },
  {
   "cell_type": "code",
   "execution_count": 145,
   "id": "5b5c02da-70ef-4f3d-8da7-6a6af45e60f1",
   "metadata": {},
   "outputs": [],
   "source": [
    "# Diğer yol"
   ]
  },
  {
   "cell_type": "code",
   "execution_count": 147,
   "id": "087bfa29-41d0-42fc-a3a5-3b8a9a028a32",
   "metadata": {},
   "outputs": [
    {
     "name": "stdout",
     "output_type": "stream",
     "text": [
      "6\n"
     ]
    }
   ],
   "source": [
    "def kelime_sayaci(metin):\n",
    "    kelimeler = metin.split()  # Metni kelimelere ayır\n",
    "    return len(kelimeler)  # Kelime sayısını döndür\n",
    "\n",
    "# Örnek kullanım\n",
    "metin = \"Merhaba dünya! Bugün hava çok güzel.\"\n",
    "print(kelime_sayaci(metin))  "
   ]
  },
  {
   "cell_type": "code",
   "execution_count": 149,
   "id": "5a8854ff-2e2d-4557-abdb-1d620d081da5",
   "metadata": {},
   "outputs": [
    {
     "data": {
      "text/plain": [
       "'\\nSoru 8\\nBir liste içindeki negatif sayıların sayısını hesaplayan bir Python fonksiyonu yazın. \\nListeyi parametre olarak alın ve sonucu döndürün.\\n'"
      ]
     },
     "execution_count": 149,
     "metadata": {},
     "output_type": "execute_result"
    }
   ],
   "source": [
    "'''\n",
    "Soru 8\n",
    "Bir liste içindeki negatif sayıların sayısını hesaplayan bir Python fonksiyonu yazın. \n",
    "Listeyi parametre olarak alın ve sonucu döndürün.\n",
    "'''"
   ]
  },
  {
   "cell_type": "code",
   "execution_count": 187,
   "id": "a71364b8-5870-4957-8dd0-b1ee936b0349",
   "metadata": {},
   "outputs": [
    {
     "name": "stdout",
     "output_type": "stream",
     "text": [
      "-14\n"
     ]
    }
   ],
   "source": [
    "liste = [-3, -5, -6, 4, 7]\n",
    "\n",
    "def neg_say_top(liste):\n",
    "    top = 0  # Toplamı sıfırdan başlat\n",
    "    for i in liste:\n",
    "        if i < 0:  # Doğrudan i'yi kontrol et\n",
    "            top += i  # Negatif sayıyı toplayın\n",
    "        else:\n",
    "            break  # Pozitif bir sayıya ulaşınca döngüyü kır\n",
    "    return top  # Toplamı döndür\n",
    "\n",
    "print(neg_say_top(liste))  # Çıktı: -14\n"
   ]
  },
  {
   "cell_type": "code",
   "execution_count": null,
   "id": "a5544f90-65a8-412a-9e0b-e217228e9009",
   "metadata": {},
   "outputs": [],
   "source": [
    "'''\n",
    "Soru 9\n",
    "Verilen bir pozitif tam sayının faktöriyelini hesaplayan bir Python fonksiyonu yazın.\n",
    "Fonksiyon, sayıyı parametre olarak almalı ve faktöriyeli döndürmelidir.\n",
    "'''"
   ]
  },
  {
   "cell_type": "code",
   "execution_count": 189,
   "id": "4011bc3b-173d-410a-b00e-1c36ee3c4756",
   "metadata": {},
   "outputs": [
    {
     "name": "stdout",
     "output_type": "stream",
     "text": [
      "120\n"
     ]
    }
   ],
   "source": [
    "def faktoriyel(sayi):\n",
    "    sonuc = 1\n",
    "    for i in range(1, sayi + 1):\n",
    "        sonuc *= i\n",
    "    return sonuc\n",
    "\n",
    "# Örnek kullanım\n",
    "sayi = 5\n",
    "print(faktoriyel(sayi))  # Çıktı: 120\n"
   ]
  },
  {
   "cell_type": "code",
   "execution_count": null,
   "id": "10bf2682-6afe-4d4e-8c79-d748a545464a",
   "metadata": {},
   "outputs": [],
   "source": [
    "'''\n",
    "Soru 5\n",
    "Bir liste içindeki her sayının karesini hesaplayarak yeni bir liste oluşturan bir Python \n",
    "fonksiyonu yazın. Orijinal listeyi parametre olarak alın ve karesini aldığınız sayılardan oluşan yeni listeyi döndürün.\n",
    "'''"
   ]
  }
 ],
 "metadata": {
  "kernelspec": {
   "display_name": "Python 3 (ipykernel)",
   "language": "python",
   "name": "python3"
  },
  "language_info": {
   "codemirror_mode": {
    "name": "ipython",
    "version": 3
   },
   "file_extension": ".py",
   "mimetype": "text/x-python",
   "name": "python",
   "nbconvert_exporter": "python",
   "pygments_lexer": "ipython3",
   "version": "3.12.4"
  }
 },
 "nbformat": 4,
 "nbformat_minor": 5
}
